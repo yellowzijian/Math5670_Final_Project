{
  "nbformat": 4,
  "nbformat_minor": 0,
  "metadata": {
    "colab": {
      "name": "Final_Project.ipynb",
      "provenance": [],
      "include_colab_link": true
    },
    "kernelspec": {
      "name": "python3",
      "display_name": "Python 3"
    },
    "language_info": {
      "name": "python"
    }
  },
  "cells": [
    {
      "cell_type": "markdown",
      "metadata": {
        "id": "view-in-github",
        "colab_type": "text"
      },
      "source": [
        "<a href=\"https://colab.research.google.com/github/yellowzijian/Math5670_Final_Project/blob/main/Final_Project.ipynb\" target=\"_parent\"><img src=\"https://colab.research.google.com/assets/colab-badge.svg\" alt=\"Open In Colab\"/></a>"
      ]
    },
    {
      "cell_type": "markdown",
      "source": [
        "## Introduction\n",
        "\n",
        "In this project, we focus on building a financial trading portfolios. Financial trading is the buying and selling of financial assets, also called financial securities. People trade a variety of financial instruments, including equities: shares of stocks representing ownership of companies, bonds: debt instruments issued by the government or corporations, forex or foreign exchange market of currencies, commodities such as gold, silver, and oil, and cryptocurrencies like Bitcoin. However, in our case, our target assets are the stock in the US market. \n",
        "\n",
        "\n",
        "  People trade to make a profit by taking calculated risks. A trader makes a profit when buying a security at a lower price and selling later at a higher price, known as going long. Conversely, they may sell a (borrowed) security at a higher price and buy it back at a lower price, known as going short. As a retail trader, we focus on the long side.\n",
        "\n",
        "  Trading typically has a shorter holding period, ranging from days to months. Investing has a longer time horizon, ranging up to years or even decades. Trading focuses on short-term market trends and tries to profit from volatility and price fluctuations. \n",
        "\n",
        "  Portfolios are a bundle of individual stocks with different weights for each position. The return of a portfolio is a linear combination of the weights and returns of each position. We are using discrete returns instead of log returns.\n"
      ],
      "metadata": {
        "id": "n_gm77S2m0aq"
      }
    },
    {
      "cell_type": "markdown",
      "source": [
        "##1. Stock Screener\n",
        "Firstly, we try to build up the stock screener by conducting the sentiment analysis with the some most popular finance communities in reddit.\n",
        "\n",
        "We generated the data.py file and import it as a module. Basically, we define all the stock ticker that we want to research. The other important thing is new words. It is a  dictionary where the keywords that are used to qualify a sentiment towards a stock and the value tell us how bullish it is.\n",
        "\n",
        "There is some pre-define parameters. First we define which subreddit we want to research, in our case, we involved wallstreetbets, stocks and investing. They are all large finance communities on Reddit. Then we are going to filter certain posts that have this flare, such as Daily Discussion, Weekend Discussion and Discussion. We decided to pick top 500 hottest posts for thoes communities. In order to guarantee the quality of the posts, we filter the ones with only upvote ratio greater than 70%. For the comments within the posts, they also need to have a minimum number of  upvotes which is 2. It was defined that 25 most mentioned tickers should be generated in order to perform the sentiment analysis and we choosed top 15 to do the sentiment analysis.\n"
      ],
      "metadata": {
        "id": "wbvguh8q2aZN"
      }
    },
    {
      "cell_type": "code",
      "source": [
        "#@title\n",
        "pip install praw"
      ],
      "metadata": {
        "id": "LraKOrrh3PlS",
        "cellView": "form"
      },
      "execution_count": null,
      "outputs": []
    },
    {
      "cell_type": "code",
      "source": [
        "#@title \n",
        "from pydrive.auth import GoogleAuth\n",
        "from pydrive.drive import GoogleDrive\n",
        "from google.colab import auth\n",
        "from oauth2client.client import GoogleCredentials\n",
        "%matplotlib notebook\n",
        "%matplotlib inline\n",
        "\n",
        "auth.authenticate_user()\n",
        "gauth = GoogleAuth()\n",
        "gauth.credentials = GoogleCredentials.get_application_default()\n",
        "drive = GoogleDrive(gauth)"
      ],
      "metadata": {
        "id": "2-8FWU7bHLGh",
        "cellView": "form"
      },
      "execution_count": null,
      "outputs": []
    },
    {
      "cell_type": "code",
      "source": [
        "#@title \n",
        "your_module = drive.CreateFile({'id':'1fPeJLNSEBVjeYMRz0F1186I3DvqdkMne'})"
      ],
      "metadata": {
        "id": "r_WJN9I5HhDI",
        "cellView": "form"
      },
      "execution_count": null,
      "outputs": []
    },
    {
      "cell_type": "code",
      "source": [
        "#@title \n",
        "your_module.GetContentFile('data.py')"
      ],
      "metadata": {
        "id": "jaZLWeVEHmwT",
        "cellView": "form"
      },
      "execution_count": null,
      "outputs": []
    },
    {
      "cell_type": "code",
      "source": [
        "#@title \n",
        "pip install squarify"
      ],
      "metadata": {
        "id": "GqhO8d7QIKd5",
        "cellView": "form"
      },
      "execution_count": null,
      "outputs": []
    },
    {
      "cell_type": "code",
      "source": [
        "#@title \n",
        "pip install emoji\n",
        "pip install nltk\n",
        "\n",
        "import nltk\n",
        "nltk.download('vader_lexicon')\n",
        "nltk.download('wordnet')"
      ],
      "metadata": {
        "id": "GaCMb8Q9LzXm",
        "cellView": "form"
      },
      "execution_count": null,
      "outputs": []
    },
    {
      "cell_type": "code",
      "source": [
        "#@title \n",
        "'''*****************************************************************************\n",
        "Purpose: To analyze the sentiments of the reddit\n",
        "This program uses Vader SentimentIntensityAnalyzer to calculate the ticker compound value. \n",
        "You can change multiple parameters to suit your needs. See below under \"set program parameters.\"\n",
        "Implementation:\n",
        "We are using sets for 'x in s' comparison, sets time complexity for \"x in s\" is O(1) compare to list: O(n).\n",
        "Limitations:\n",
        "It depends mainly on the defined parameters for current implementation:\n",
        "It completely ignores the heavily downvoted comments, and there can be a time when\n",
        "the most mentioned ticker is heavily downvoted, but you can change that in upvotes variable.\n",
        "-------------------------------------------------------------------\n",
        "****************************************************************************'''\n",
        "\n",
        "import praw\n",
        "from data import *\n",
        "import time\n",
        "import pandas as pd\n",
        "import matplotlib.pyplot as plt\n",
        "import squarify\n",
        "from nltk.sentiment.vader import SentimentIntensityAnalyzer\n",
        "from nltk.corpus import stopwords\n",
        "from nltk.tokenize import RegexpTokenizer\n",
        "from nltk.stem import WordNetLemmatizer\n",
        "import emoji    # removes emojis\n",
        "import re   # removes links\n",
        "import en_core_web_sm\n",
        "import string\n",
        "\n",
        "\n",
        "def data_extractor(reddit):\n",
        "    '''extracts all the data from reddit\n",
        "    Parameter: reddt: reddit obj\n",
        "    Return:    posts, c_analyzed, tickers, titles, a_comments, picks, subs, picks_ayz\n",
        "                \n",
        "                posts: int: # of posts analyzed\n",
        "                 c_analyzed: int: # of comments analyzed\n",
        "                 tickers: dict: all the tickers found\n",
        "                titles: list: list of the title of posts analyzed \n",
        "                 a_comments: dict: all the comments to analyze\n",
        "                 picks: int: top picks to analyze\n",
        "                 subs: int: # of subreddits analyzed\n",
        "                picks_ayz: int: top picks to analyze\n",
        "    \n",
        "    '''\n",
        "    \n",
        "    '''############################################################################'''\n",
        "\n",
        "\n",
        "    # set the program parameters\n",
        "    subs = ['wallstreetbets', 'stocks', 'investing']     # sub-reddit to search\n",
        "    post_flairs = {'Daily Discussion', 'Weekend Discussion', 'Discussion'}    # posts flairs to search || None flair is automatically considered\n",
        "    goodAuth = {'AutoModerator'}   # authors whom comments are allowed more than once\n",
        "    uniqueCmt = True                # allow one comment per author per symbol\n",
        "    ignoreAuthP = {'example'}       # authors to ignore for posts \n",
        "    ignoreAuthC = {'example'}       # authors to ignore for comment \n",
        "    upvoteRatio = 0.70         # upvote ratio for post to be considered, 0.70 = 70%\n",
        "    ups = 20       # define # of upvotes, post is considered if upvotes exceed this #\n",
        "    limit = 1     # define the limit, comments 'replace more' limit\n",
        "    upvotes = 2     # define # of upvotes, comment is considered if upvotes exceed this #\n",
        "    picks = 25     # define # of picks here, prints as \"Top ## picks are:\"\n",
        "    picks_ayz = 15   # define # of picks for sentiment analysis\n",
        "    '''############################################################################'''     \n",
        "    \n",
        "    posts, count, c_analyzed, tickers, titles, a_comments = 0, 0, 0, {}, [], {}\n",
        "    cmt_auth = {}\n",
        "    \n",
        "    for sub in subs:\n",
        "        subreddit = reddit.subreddit(sub)\n",
        "        hot_python = subreddit.hot(limit=500)    # sorting posts by hot\n",
        "        # Extracting comments, symbols from subreddit\n",
        "        for submission in hot_python:\n",
        "            flair = submission.link_flair_text \n",
        "            author = submission.author.name\n",
        "            \n",
        "            # checking: post upvote ratio # of upvotes, post flair, and author \n",
        "            if submission.upvote_ratio >= upvoteRatio and submission.ups > ups and (flair in post_flairs or flair is None) and author not in ignoreAuthP:   \n",
        "                submission.comment_sort = 'new'     \n",
        "                comments = submission.comments\n",
        "                titles.append(submission.title)\n",
        "                posts += 1\n",
        "                try: \n",
        "                    submission.comments.replace_more(limit=limit)   \n",
        "                    for comment in comments:\n",
        "                        # try except for deleted account?\n",
        "                        try: auth = comment.author.name\n",
        "                        except: pass\n",
        "                        c_analyzed += 1\n",
        "                        \n",
        "                        # checking: comment upvotes and author\n",
        "                        if comment.score > upvotes and auth not in ignoreAuthC:      \n",
        "                            split = comment.body.split(\" \")\n",
        "                            for word in split:\n",
        "                                word = word.replace(\"$\", \"\")        \n",
        "                                # upper = ticker, length of ticker <= 5, excluded words,                     \n",
        "                                if word.isupper() and len(word) <= 5 and word not in blacklist and word in us:\n",
        "                                    \n",
        "                                    # unique comments, try/except for key errors\n",
        "                                    if uniqueCmt and auth not in goodAuth:\n",
        "                                        try: \n",
        "                                            if auth in cmt_auth[word]: break\n",
        "                                        except: pass\n",
        "                                        \n",
        "                                    # counting tickers\n",
        "                                    if word in tickers:\n",
        "                                        tickers[word] += 1\n",
        "                                        a_comments[word].append(comment.body)\n",
        "                                        cmt_auth[word].append(auth)\n",
        "                                        count += 1\n",
        "                                    else:                               \n",
        "                                        tickers[word] = 1\n",
        "                                        cmt_auth[word] = [auth]\n",
        "                                        a_comments[word] = [comment.body]\n",
        "                                        count += 1   \n",
        "                except Exception as e: print(e)\n",
        "                \n",
        "                           \n",
        "    return posts, c_analyzed, tickers, titles, a_comments, picks, subs, picks_ayz\n",
        "\n",
        "\n",
        "def print_helper(tickers, picks, c_analyzed, posts, subs, titles, time, start_time):\n",
        "    '''prints out top tickers, and most mentioned tickers\n",
        "    \n",
        "    Parameter:   tickers: dict: all the tickers found\n",
        "                 picks: int: top picks to analyze\n",
        "                 c_analyzed: int: # of comments analyzed\n",
        "                 posts: int: # of posts analyzed\n",
        "                 subs: int: # of subreddits analyzed\n",
        "                titles: list: list of the title of posts analyzed \n",
        "                 time: time obj: top picks to analyze\n",
        "                start_time: time obj: prog start time\n",
        "    Return: symbols: dict: dict of sorted tickers based on mentions\n",
        "            times: list: include # of time top tickers is mentioned\n",
        "            top: list: list of top tickers\n",
        "    '''    \n",
        "\n",
        "    # sorts the dictionary\n",
        "    symbols = dict(sorted(tickers.items(), key=lambda item: item[1], reverse = True))\n",
        "    top_picks = list(symbols.keys())[0:picks]\n",
        "    time = (time.time() - start_time)\n",
        "    \n",
        "    # print top picks\n",
        "    print(\"It took {t:.2f} seconds to analyze {c} comments in {p} posts in {s} subreddits.\\n\".format(t=time, c=c_analyzed, p=posts, s=len(subs)))\n",
        "    print(\"Posts analyzed saved in titles\")\n",
        "    #for i in titles: print(i)  # prints the title of the posts analyzed\n",
        "    \n",
        "    \n",
        "    print(f\"\\n{picks} most mentioned tickers: \")\n",
        "    times = []\n",
        "    top = []\n",
        "    for i in top_picks:\n",
        "        print(f\"{i}: {symbols[i]}\")\n",
        "        times.append(symbols[i])\n",
        "        top.append(f\"{i}: {symbols[i]}\")\n",
        "   \n",
        "    return symbols, times, top\n",
        "    \n",
        "    \n",
        "def sentiment_analysis(picks_ayz, a_comments, symbols):\n",
        "    '''analyzes sentiment anaylsis of top tickers\n",
        "    \n",
        "    Parameter:   picks_ayz: int: top picks to analyze\n",
        "                 a_comments: dict: all the comments to analyze\n",
        "                 symbols: dict: dict of sorted tickers based on mentions\n",
        "    Return:      scores: dictionary: dictionary of all the sentiment analysis\n",
        "    '''\n",
        "    scores = {}\n",
        "     \n",
        "    vader = SentimentIntensityAnalyzer()\n",
        "    vader.lexicon.update(new_words)     # adding custom words from data.py \n",
        "    picks_sentiment = list(symbols.keys())[0:picks_ayz]\n",
        "    \n",
        "    for symbol in picks_sentiment:\n",
        "        stock_comments = a_comments[symbol]\n",
        "        for cmnt in stock_comments:\n",
        "    \n",
        "            emojiless = emoji.get_emoji_regexp().sub(u'', cmnt) # remove emojis\n",
        "            \n",
        "            # remove punctuation\n",
        "            text_punc  = \"\".join([char for char in emojiless if char not in string.punctuation])\n",
        "            text_punc = re.sub('[0-9]+', '', text_punc)\n",
        "                \n",
        "            # tokenizeing and cleaning \n",
        "            tokenizer = RegexpTokenizer('\\w+|\\$[\\d\\.]+|http\\S+')\n",
        "            tokenized_string = tokenizer.tokenize(text_punc)\n",
        "            lower_tokenized = [word.lower() for word in tokenized_string] # convert to lower case\n",
        "            \n",
        "            # remove stop words\n",
        "            nlp = en_core_web_sm.load()\n",
        "            stopwords = nlp.Defaults.stop_words\n",
        "            sw_removed = [word for word in lower_tokenized if not word in stopwords]\n",
        "            \n",
        "            # normalize the words using lematization\n",
        "            lemmatizer = WordNetLemmatizer()\n",
        "            lemmatized_tokens = ([lemmatizer.lemmatize(w) for w in sw_removed])\n",
        "            \n",
        "            # calculating sentiment of every word in comments n combining them\n",
        "            score_cmnt = {'neg': 0.0, 'neu': 0.0, 'pos': 0.0, 'compound': 0.0}\n",
        "            \n",
        "            word_count = 0\n",
        "            for word in lemmatized_tokens:\n",
        "                if word.upper() not in us:\n",
        "                    score = vader.polarity_scores(word)\n",
        "                    word_count += 1\n",
        "                    for key, _ in score.items():\n",
        "                        score_cmnt[key] += score[key]    \n",
        "                else:\n",
        "                    score_cmnt['pos'] = 2.0               \n",
        "                    \n",
        "            # calculating avg.\n",
        "            try:        # handles: ZeroDivisionError: float division by zero\n",
        "                for key in score_cmnt:\n",
        "                    score_cmnt[key] = score_cmnt[key] / word_count\n",
        "            except: pass\n",
        "                \n",
        "            \n",
        "            # adding score the the specific symbol\n",
        "            if symbol in scores:\n",
        "                for key, _ in score_cmnt.items():\n",
        "                    scores[symbol][key] += score_cmnt[key]\n",
        "            else:\n",
        "                scores[symbol] = score_cmnt        \n",
        "    \n",
        "        # calculating avg.\n",
        "        for key in score_cmnt:\n",
        "            scores[symbol][key] = scores[symbol][key] / symbols[symbol]\n",
        "            scores[symbol][key]  = \"{pol:.3f}\".format(pol=scores[symbol][key])\n",
        "            \n",
        "    return scores\n",
        "\n",
        "\n",
        "def visualization(picks_ayz, scores, picks, times, top):\n",
        "    '''prints sentiment analysis\n",
        "       makes a most mentioned picks chart\n",
        "       makes a chart of sentiment analysis of top picks\n",
        "       \n",
        "    Parameter:   picks_ayz: int: top picks to analyze\n",
        "                 scores: dictionary: dictionary of all the sentiment analysis\n",
        "                 picks: int: most mentioned picks\n",
        "                times: list: include # of time top tickers is mentioned\n",
        "                top: list: list of top tickers\n",
        "    Return:       None\n",
        "    '''\n",
        "    \n",
        "    # printing sentiment analysis \n",
        "    print(f\"\\nSentiment analysis of top {picks_ayz} picks:\")\n",
        "    df = pd.DataFrame(scores)\n",
        "    df.index = ['Bearish', 'Neutral', 'Bullish', 'Total/Compound']\n",
        "    df = df.T\n",
        "    print(df)\n",
        "    \n",
        "    # Date Visualization\n",
        "    # most mentioned picks    \n",
        "    squarify.plot(sizes=times, label=top, alpha=.7 )\n",
        "    plt.axis('off')\n",
        "    plt.title(f\"{picks} most mentioned picks\")\n",
        "    #plt.show()\n",
        "    \n",
        "    # Sentiment analysis\n",
        "    df = df.astype(float)\n",
        "    colors = ['red', 'springgreen', 'forestgreen', 'coral']\n",
        "    df.plot(kind = 'bar', color=colors, title=f\"Sentiment analysis of top {picks_ayz} picks:\")\n",
        "    \n",
        "    \n",
        "    #plt.show()\n",
        "\n",
        "def main():\n",
        "    '''main function\n",
        "    Parameter:   None\n",
        "    Return:       None\n",
        "    '''\n",
        "    start_time = time.time()\n",
        "    \n",
        "    # reddit client\n",
        "    reddit = praw.Reddit(user_agent=\"Comment Extraction\",\n",
        "                         client_id=\"\",\n",
        "                         client_secret=\"\",\n",
        "                         username=\"yellowzijian\",\n",
        "                         password=\"password\", check_for_async=False)\n",
        "\n",
        "    posts, c_analyzed, tickers, titles, a_comments, picks, subs, picks_ayz = data_extractor(reddit)\n",
        "    symbols, times, top = print_helper(tickers, picks, c_analyzed, posts, subs, titles, time, start_time)\n",
        "    scores = sentiment_analysis(picks_ayz, a_comments, symbols)\n",
        "    visualization(picks_ayz, scores, picks, times, top)\n",
        "    \n",
        "if __name__ == '__main__':\n",
        "    main()"
      ],
      "metadata": {
        "colab": {
          "base_uri": "https://localhost:8080/",
          "height": 1000
        },
        "id": "jNQmgpBP3HNy",
        "outputId": "d332d858-ecda-4139-be4b-bce9ac10d978",
        "cellView": "form"
      },
      "execution_count": null,
      "outputs": [
        {
          "output_type": "stream",
          "name": "stdout",
          "text": [
            "It took 207.39 seconds to analyze 11289 comments in 179 posts in 3 subreddits.\n",
            "\n",
            "Posts analyzed saved in titles\n",
            "\n",
            "25 most mentioned tickers: \n",
            "AAPL: 58\n",
            "GME: 53\n",
            "TSLA: 51\n",
            "NVDA: 30\n",
            "MSFT: 30\n",
            "AMD: 26\n",
            "CHWY: 26\n",
            "BABA: 18\n",
            "PE: 18\n",
            "PYPL: 16\n",
            "PLTR: 16\n",
            "DKNG: 10\n",
            "FB: 9\n",
            "AMZN: 9\n",
            "F: 9\n",
            "NET: 9\n",
            "SQ: 9\n",
            "INTC: 8\n",
            "AI: 8\n",
            "DOCU: 8\n",
            "TV: 7\n",
            "SE: 7\n",
            "T: 7\n",
            "X: 6\n",
            "DIS: 6\n",
            "\n",
            "Sentiment analysis of top 15 picks:\n",
            "     Bearish Neutral Bullish Total/Compound\n",
            "AAPL   0.125   0.695   0.689         -0.007\n",
            "GME    0.147   0.718   0.559         -0.028\n",
            "TSLA   0.079   0.680   0.729          0.030\n",
            "NVDA   0.081   0.700   0.399          0.032\n",
            "MSFT   0.034   0.738   0.487          0.030\n",
            "AMD    0.054   0.793   0.515          0.043\n",
            "CHWY   0.222   0.597   0.672         -0.048\n",
            "BABA   0.082   0.744   0.544          0.015\n",
            "PE     0.054   0.793   0.243          0.033\n",
            "PYPL   0.033   0.646   0.738          0.030\n",
            "PLTR   0.084   0.524   0.849          0.020\n",
            "DKNG   0.051   0.654   0.875          0.002\n",
            "FB     0.031   0.476   1.030          0.048\n",
            "AMZN   0.016   0.511   0.863          0.101\n",
            "F      0.049   0.714   0.917         -0.014\n"
          ]
        },
        {
          "output_type": "display_data",
          "data": {
            "image/png": "[encoded data removed]",
            "text/plain": [
              "<Figure size 432x288 with 1 Axes>"
            ]
          },
          "metadata": {
            "needs_background": "light"
          }
        },
        {
          "output_type": "display_data",
          "data": {
            "image/png": "[encoded data removed]",
            "text/plain": [
              "<Figure size 432x288 with 1 Axes>"
            ]
          },
          "metadata": {
            "needs_background": "light"
          }
        }
      ]
    },
    {
      "cell_type": "markdown",
      "source": [
        "Based on the first table, it showed 25 most mentioned tickers. We expected to build a portfolio based on thoes stocks. However, there are too many stocks and some of them may turn out to short. So the score could help us further filter the stocks. Once we considered the compound score, thoes with negative scores should be ignored. Moreover, PE is a kind of special assets. So it should be also exclued from our final portfolio. Thus, our portfolio included TSLA, NVDA, MSFT, AMD, BABA, PYPL, PLTR, DKNG, FB and AMZN. Thoes 10 stock seems to be ideal invest target for the short term."
      ],
      "metadata": {
        "id": "R2JQ3V5SIGm9"
      }
    },
    {
      "cell_type": "markdown",
      "source": [
        "## 2. Portfolio Investing\n",
        "\n",
        "Financial returns are generally derived from stock prices, and are expressed as percentages in decimal form. There are two common types of financial returns: discrete returns (also called simple returns), and log returns (also called continuous returns). In our project, we used mostly discrete returns at the daily frequency. Log returns are used for some advanced formulas and financial models in finance.\n",
        "\n",
        "There is a very simple formula to calculate simple returns, which is simply today's price minus yesterday's price, divided by yesterday's price. This gives you a percentage gain or loss for the day.\n",
        "$$R_{t_2}=\\frac{P_{t_2}-P_{t_1}}{P_{t_1}}$$\n",
        "\n",
        "For log returns, what is important to understand though is that log returns aggregate across time, while discrete returns aggregate across assets. Since you are building portfolios with multiple assets, discrete returns make the most sense to our project.\n",
        "$$Rl=ln(\\frac{P_{t_2}}{P_{t_1}})=ln(P_{t_2})-ln(P_{t_1})$$"
      ],
      "metadata": {
        "id": "xu9xaSwDLnyh"
      }
    },
    {
      "cell_type": "markdown",
      "source": [
        "Harry Markowitz came up with Efficient Frontier Optimization in 1952, which provides a solid framework for combining stocks in a portfolio. The key insight is that by combining assets with different expected returns and volatilities, one can decide on a mathematically optimal allocation.\n",
        "\n",
        "Mean-variance optimization problem\n",
        "$$\\min w'\\Sigma w$$\n",
        "with constraints\n",
        "\\begin{align*}\n",
        "& \\mu' w\\geq \\mu_{target}\\\\\n",
        "& \\omega' w=1 \\\\\n",
        "& w\\geq \\eta=[0,0,\\dots,0]'\n",
        "\\end{align*}\n",
        "\n",
        "The Efficient Frontier Optimization is a constrained optimization problem, in which you try to minimize portfolio variance by setting the weights. The top line is in fact the portfolio variance. It's weights transposed, times the covariance matrix sigma, times the weights again. The \"subject to\" conditions simply state that the expected return, or weights times mu, should be at least some target level of return. Then, it says that the weights should some up to 1, and that at least some of the weights should be positive."
      ],
      "metadata": {
        "id": "7GbySvHc5Aem"
      }
    },
    {
      "cell_type": "code",
      "source": [
        "pip install yfinance\n",
        "\n",
        "stocks = ['TSLA', 'NVDA', 'MSFT', 'AMD', 'BABA', 'PYPL', 'PLTR', 'DKNG', 'FB', 'AMZN']\n",
        "\n",
        "# Raw Package\n",
        "import numpy as np\n",
        "import pandas as pd\n",
        "\n",
        "#Data Source\n",
        "import yfinance as yf\n",
        "\n",
        "#Data viz\n",
        "import plotly.graph_objs as go\n",
        "\n",
        "#Interval required 1 minute\n",
        "data = yf.download(tickers=stocks, period='1y', interval='1d')"
      ],
      "metadata": {
        "colab": {
          "base_uri": "https://localhost:8080/"
        },
        "id": "5CDai3C-0A-s",
        "outputId": "8f76d9d7-104d-4c60-fab7-aff297094878"
      },
      "execution_count": null,
      "outputs": [
        {
          "output_type": "stream",
          "name": "stdout",
          "text": [
            "[*********************100%***********************]  10 of 10 completed\n"
          ]
        }
      ]
    },
    {
      "cell_type": "code",
      "source": [
        "stock_prices = data['Adj Close']\n",
        "stock_returns = data['Adj Close'].pct_change().dropna()"
      ],
      "metadata": {
        "id": "_F7QTMGw0A6g"
      },
      "execution_count": null,
      "outputs": []
    },
    {
      "cell_type": "code",
      "source": [
        "pip install PyPortfolioOpt\n",
        "\n",
        "# Import the packages \n",
        "from pypfopt import risk_models\n",
        "from pypfopt import expected_returns\n",
        "from pypfopt import objective_functions\n",
        "from pypfopt.efficient_frontier import EfficientFrontier\n",
        "\n",
        "\n",
        "# Calculate expected returns mu \n",
        "mu = expected_returns.mean_historical_return(stock_prices)\n",
        "\n",
        "# Calculate the covariance matrix S\n",
        "Sigma = risk_models.sample_cov(stock_prices)\n",
        "\n",
        "# Obtain the efficient frontier\n",
        "ef = EfficientFrontier(mu, Sigma)\n",
        "# ef.add_objective(objective_functions.L2_reg, gamma=2)\n",
        "\n",
        "# Calculate weights for the maximum Sharpe ratio portfolio\n",
        "raw_weights_maxsharpe = ef.max_sharpe()\n",
        "cleaned_weights_maxsharpe = ef.clean_weights()\n",
        "print (cleaned_weights_maxsharpe)"
      ],
      "metadata": {
        "colab": {
          "base_uri": "https://localhost:8080/"
        },
        "id": "NliF_d01-RvV",
        "outputId": "2a15f66f-4652-4f1a-936f-7dd7ff9cae6b"
      },
      "execution_count": null,
      "outputs": [
        {
          "output_type": "stream",
          "name": "stdout",
          "text": [
            "OrderedDict([('AMD', 0.0), ('AMZN', 0.0), ('BABA', 0.0), ('DKNG', 0.0), ('FB', 0.0), ('MSFT', 0.66455), ('NVDA', 0.33545), ('PLTR', 0.0), ('PYPL', 0.0), ('TSLA', 0.0)])\n"
          ]
        }
      ]
    },
    {
      "cell_type": "code",
      "source": [
        "# Obtain the efficient frontier\n",
        "ef = EfficientFrontier(mu, Sigma)\n",
        "# ef.add_objective(objective_functions.L2_reg, gamma=2)\n",
        "\n",
        "# Calculate weights for the minimum volatility portfolio\n",
        "raw_weights_minvol = ef.min_volatility()\n",
        "cleaned_weights_minvol = ef.clean_weights()\n",
        "\n",
        "# Show portfolio performance\n",
        "print(cleaned_weights_minvol)\n",
        "ef.portfolio_performance(verbose=True)"
      ],
      "metadata": {
        "colab": {
          "base_uri": "https://localhost:8080/"
        },
        "id": "YPlaDkdKDWI5",
        "outputId": "cc7c6ef4-2506-47fd-ec00-49980fa00d67"
      },
      "execution_count": null,
      "outputs": [
        {
          "output_type": "stream",
          "name": "stdout",
          "text": [
            "OrderedDict([('AMD', 0.0), ('AMZN', 0.23225), ('BABA', 0.09389), ('DKNG', 0.0152), ('FB', 0.07271), ('MSFT', 0.58116), ('NVDA', 0.0), ('PLTR', 0.0048), ('PYPL', 0.0), ('TSLA', 0.0)])\n",
            "Expected annual return: 28.9%\n",
            "Annual volatility: 18.8%\n",
            "Sharpe Ratio: 1.43\n"
          ]
        },
        {
          "output_type": "execute_result",
          "data": {
            "text/plain": [
              "(0.2889498996430218, 0.18807784926213458, 1.4299924244038507)"
            ]
          },
          "metadata": {},
          "execution_count": 47
        }
      ]
    },
    {
      "cell_type": "code",
      "source": [
        "plotting.plot_covariance(Sigma)"
      ],
      "metadata": {
        "colab": {
          "base_uri": "https://localhost:8080/",
          "height": 314
        },
        "id": "qz2Kie2mAbde",
        "outputId": "da2ab8f3-a459-4235-c876-9c213f1b7a5d"
      },
      "execution_count": 69,
      "outputs": [
        {
          "output_type": "execute_result",
          "data": {
            "text/plain": [
              "<matplotlib.axes._subplots.AxesSubplot at 0x7f641e0bd150>"
            ]
          },
          "metadata": {},
          "execution_count": 69
        },
        {
          "output_type": "display_data",
          "data": {
            "image/png": "[encoded data removed]",
            "text/plain": [
              "<Figure size 432x288 with 2 Axes>"
            ]
          },
          "metadata": {
            "needs_background": "light"
          }
        }
      ]
    },
    {
      "cell_type": "code",
      "source": [
        "# from pypfopt import objective_functions\n",
        "\n",
        "# # Obtain the efficient frontier\n",
        "# ef = EfficientFrontier(mu, Sigma)\n",
        "# # ef.add_objective(objective_functions.L2_reg, gamma=2)\n",
        "\n",
        "# # Calculate weights for the minimum volatility portfolio\n",
        "# raw_weights_maxqu = ef.max_quadratic_utility(risk_aversion=1)\n",
        "# cleaned_weights_maxqu = ef.clean_weights()\n",
        "\n",
        "# # Show portfolio performance\n",
        "# print(cleaned_weights_maxqu)\n",
        "# print(raw_weights_maxqu)\n",
        "# ef.portfolio_performance(verbose=True)"
      ],
      "metadata": {
        "id": "OSb7fqcJLsgQ"
      },
      "execution_count": null,
      "outputs": []
    },
    {
      "cell_type": "code",
      "source": [
        "from matplotlib import pyplot as plt\n",
        "from pypfopt import plotting\n",
        "# Obtain the efficient frontier\n",
        "ef = EfficientFrontier(mu, Sigma)\n",
        "# ef.add_objective(objective_functions.L2_reg, gamma=2)\n",
        "fig, ax = plt.subplots()\n",
        "plotting.plot_efficient_frontier(ef, ax=ax, show_assets=False)\n",
        "\n",
        "# Obtain the efficient frontier\n",
        "ef = EfficientFrontier(mu, Sigma)\n",
        "# ef.add_objective(objective_functions.L2_reg, gamma=2)\n",
        "# Find the tangency portfolio\n",
        "ef.max_sharpe()\n",
        "ret_tangent, std_tangent, _ = ef.portfolio_performance()\n",
        "ax.scatter(std_tangent, ret_tangent, marker=\"*\", s=100, c=\"r\", label=\"Max Sharpe\")\n",
        "\n",
        "# Obtain the efficient frontier\n",
        "ef = EfficientFrontier(mu, Sigma)\n",
        "# ef.add_objective(objective_functions.L2_reg, gamma=2)\n",
        "# Find the tangency portfolio\n",
        "ef.min_volatility()\n",
        "ret_min, std_min, _ = ef.portfolio_performance()\n",
        "ax.scatter(std_min, ret_min, marker=\"D\", s=100, c=\"g\", label=\"Min Volatility\")\n"
      ],
      "metadata": {
        "colab": {
          "base_uri": "https://localhost:8080/",
          "height": 314
        },
        "id": "_gXDaAxUH20x",
        "outputId": "522c0e90-4bc1-491c-d0e0-1dffc6ed1b9d"
      },
      "execution_count": null,
      "outputs": [
        {
          "output_type": "execute_result",
          "data": {
            "text/plain": [
              "<matplotlib.collections.PathCollection at 0x7f641e50d910>"
            ]
          },
          "metadata": {},
          "execution_count": 42
        },
        {
          "output_type": "display_data",
          "data": {
            "image/png": "[encoded data removed]",
            "text/plain": [
              "<Figure size 432x288 with 1 Axes>"
            ]
          },
          "metadata": {
            "needs_background": "light"
          }
        }
      ]
    },
    {
      "cell_type": "markdown",
      "source": [
        "When we change the target return in the optimization problem, the weights w that form the optimal solution, change. So in fact, the solution to the Markowitz' optimization problem, is a collection of portfolios, which we call the efficient frontier. The line in the graph represents that frontier. The efficient frontier is thus the set of optimal portfolios that offers lowest risk for a given level of expected return and visa versa.\n",
        "\n",
        "μ and σ are normally calculated by the returns. The red star represent the point on the efficient frontier with the max sharpe ratio. On the other hand, the green diamond represent the point on the efficient frontier with min volatillity. Moreover, we could check the performance for each cases. "
      ],
      "metadata": {
        "id": "cn_4SgW24coW"
      }
    },
    {
      "cell_type": "code",
      "source": [
        "from pypfopt import risk_models\n",
        "\n",
        "# Define exponentially weightedSigma and mu using stock_prices\n",
        "Sigma_ew = risk_models.exp_cov(stock_prices, span=180, frequency=252)\n",
        "mu_ew = expected_returns.ema_historical_return(stock_prices, frequency=252, span=180)\n",
        "\n",
        "# Calculate the efficient frontier\n",
        "ef = EfficientFrontier(mu_ew, Sigma_ew)\n",
        "\n",
        "# Calculate weights for the min volatility\n",
        "raw_weights_minvol = ef.min_volatility()\n",
        "cleaned_weights_minvol = ef.clean_weights()\n",
        "\n",
        "# Show portfolio performance \n",
        "print(cleaned_weights_maxsharpe)\n",
        "ef.portfolio_performance(verbose=True)"
      ],
      "metadata": {
        "colab": {
          "base_uri": "https://localhost:8080/"
        },
        "id": "p4cw-Yv9mMht",
        "outputId": "7c8cf5f2-c1cf-49a5-c364-ca913daf4b1b"
      },
      "execution_count": null,
      "outputs": [
        {
          "output_type": "stream",
          "name": "stdout",
          "text": [
            "OrderedDict([('AMD', 0.0), ('AMZN', 0.0), ('BABA', 0.0), ('DKNG', 0.0), ('FB', 0.0), ('MSFT', 0.34813), ('NVDA', 0.58744), ('PLTR', 0.0), ('PYPL', 0.0), ('TSLA', 0.06443)])\n",
            "Expected annual return: 20.5%\n",
            "Annual volatility: 18.0%\n",
            "Sharpe Ratio: 1.02\n"
          ]
        },
        {
          "output_type": "execute_result",
          "data": {
            "text/plain": [
              "(0.20487410456733524, 0.18041289589070392, 1.0247277704545799)"
            ]
          },
          "metadata": {},
          "execution_count": 50
        }
      ]
    },
    {
      "cell_type": "code",
      "source": [
        "# Calculate the efficient frontier\n",
        "ef = EfficientFrontier(mu_ew, Sigma_ew)\n",
        "\n",
        "# Calculate weights for the maximum sharpe ratio optimization\n",
        "raw_weights_maxsharpe = ef.max_sharpe()\n",
        "cleaned_weights_maxsharpe = ef.clean_weights()\n",
        "\n",
        "# Show portfolio performance \n",
        "print(cleaned_weights_maxsharpe)\n",
        "ef.portfolio_performance(verbose=True)"
      ],
      "metadata": {
        "colab": {
          "base_uri": "https://localhost:8080/"
        },
        "id": "MozlDK1DmMct",
        "outputId": "59dfd38e-b61b-4093-b86e-d7f1efcaff32"
      },
      "execution_count": null,
      "outputs": [
        {
          "output_type": "stream",
          "name": "stdout",
          "text": [
            "OrderedDict([('AMD', 0.0), ('AMZN', 0.0), ('BABA', 0.0), ('DKNG', 0.0), ('FB', 0.0), ('MSFT', 0.34813), ('NVDA', 0.58744), ('PLTR', 0.0), ('PYPL', 0.0), ('TSLA', 0.06443)])\n",
            "Expected annual return: 121.2%\n",
            "Annual volatility: 33.6%\n",
            "Sharpe Ratio: 3.55\n"
          ]
        },
        {
          "output_type": "execute_result",
          "data": {
            "text/plain": [
              "(1.212410100612259, 0.33588055023743674, 3.5501016649202652)"
            ]
          },
          "metadata": {},
          "execution_count": 49
        }
      ]
    },
    {
      "cell_type": "code",
      "source": [
        "plotting.plot_covariance(Sigma_ew)"
      ],
      "metadata": {
        "colab": {
          "base_uri": "https://localhost:8080/",
          "height": 314
        },
        "id": "JVC4Rtw5Loyv",
        "outputId": "5dbd2e0f-2910-4543-d20d-22c124d1f9ef"
      },
      "execution_count": 70,
      "outputs": [
        {
          "output_type": "execute_result",
          "data": {
            "text/plain": [
              "<matplotlib.axes._subplots.AxesSubplot at 0x7f6446356810>"
            ]
          },
          "metadata": {},
          "execution_count": 70
        },
        {
          "output_type": "display_data",
          "data": {
            "image/png": "[encoded data removed]",
            "text/plain": [
              "<Figure size 432x288 with 2 Axes>"
            ]
          },
          "metadata": {
            "needs_background": "light"
          }
        }
      ]
    },
    {
      "cell_type": "code",
      "source": [
        "# Obtain the efficient frontier\n",
        "ef = EfficientFrontier(mu_ew, Sigma_ew)\n",
        "# ef.add_objective(objective_functions.L2_reg, gamma=2)\n",
        "fig, ax = plt.subplots()\n",
        "plotting.plot_efficient_frontier(ef, ax=ax, show_assets=False)\n",
        "\n",
        "# Obtain the efficient frontier\n",
        "ef = EfficientFrontier(mu_ew, Sigma_ew)\n",
        "# ef.add_objective(objective_functions.L2_reg, gamma=2)\n",
        "# Find the tangency portfolio\n",
        "ef.max_sharpe()\n",
        "ret_tangent, std_tangent, _ = ef.portfolio_performance()\n",
        "ax.scatter(std_tangent, ret_tangent, marker=\"*\", s=100, c=\"r\", label=\"Max Sharpe\")\n",
        "\n",
        "# Obtain the efficient frontier\n",
        "ef = EfficientFrontier(mu_ew, Sigma_ew)\n",
        "# ef.add_objective(objective_functions.L2_reg, gamma=2)\n",
        "# Find the tangency portfolio\n",
        "ef.min_volatility()\n",
        "ret_min, std_min, _ = ef.portfolio_performance()\n",
        "ax.scatter(std_min, ret_min, marker=\"D\", s=100, c=\"g\", label=\"Min Volatility\")\n"
      ],
      "metadata": {
        "colab": {
          "base_uri": "https://localhost:8080/",
          "height": 314
        },
        "id": "e2f78nLmmMXe",
        "outputId": "6a8779da-8a9c-4455-d57a-64a84b010221"
      },
      "execution_count": null,
      "outputs": [
        {
          "output_type": "execute_result",
          "data": {
            "text/plain": [
              "<matplotlib.collections.PathCollection at 0x7f641e3a1390>"
            ]
          },
          "metadata": {},
          "execution_count": 51
        },
        {
          "output_type": "display_data",
          "data": {
            "image/png": "[encoded data removed]",
            "text/plain": [
              "<Figure size 432x288 with 1 Axes>"
            ]
          },
          "metadata": {
            "needs_background": "light"
          }
        }
      ]
    },
    {
      "cell_type": "markdown",
      "source": [
        "μ and σ are normally calculated by the returns. The red star represent the point on the efficient frontier with the max sharpe ratio. On the other hand, the green diamond represent the point on the efficient frontier with min volatillity. Moreover, we could check the performance for each cases. \n",
        "\n",
        "Efficient frontier optimization requires knowledge of the expected risk Sigma and expected returns mu. In practice, these are rather difficult to know with any certainty. The best we can do is to come up with estimates, for example by extrapolating historical data. But that is where we go wrong. If history would repeat itself perfectly, we would all be able to predict financial markets and stock movements. The truth is, the mean historic returns, or the historic portfolio variance are not perfect inputs and do not reflect future expected risk and return perfectly. Hence the resulting weights of our optimization problem, would have worked well in the past, but we have no guarantee that it will work well in the future.\n",
        "\n",
        "We need to think about better measures for expected risk and return. A possible improvement is to use exponentially weighted risk and return. It assigns more importance to the most recent data, and thus aims to improve the estimates. \n",
        "\n",
        "We can do the same for volatility. The exponential covariance matrix also gives more weight to recent data when calculating covariance, in the same way that the exponential moving average is calculated. \n",
        "\n",
        "The efficient frontier is calculated by exponential weighted μ and σ. The red star represent the point on the efficient frontier with the max sharpe ratio. On the other hand, the green diamond represent the point on the efficient frontier with min volatillity. Moreover, we could also check the performance for each cases.\n",
        "\n"
      ],
      "metadata": {
        "id": "FGKfnsQwzI4Z"
      }
    },
    {
      "cell_type": "code",
      "source": [
        "Sigma_semi = risk_models.semicovariance(stock_prices, benchmark=0, frequency=252)\n",
        "\n",
        "# Calculate the efficient frontier\n",
        "ef = EfficientFrontier(mu_ew, Sigma_semi)\n",
        "\n",
        "# Calculate weights for the min volatility\n",
        "raw_weights_minvol = ef.min_volatility()\n",
        "cleaned_weights_minvol = ef.clean_weights()\n",
        "\n",
        "# Show portfolio performance \n",
        "print(cleaned_weights_maxsharpe)\n",
        "ef.portfolio_performance(verbose=True)"
      ],
      "metadata": {
        "colab": {
          "base_uri": "https://localhost:8080/"
        },
        "id": "2CO-ibLqo7FQ",
        "outputId": "965bcfee-6e19-43fe-9996-761c2ae582e5"
      },
      "execution_count": null,
      "outputs": [
        {
          "output_type": "stream",
          "name": "stdout",
          "text": [
            "OrderedDict([('AMD', 0.0), ('AMZN', 0.0), ('BABA', 0.0), ('DKNG', 0.0), ('FB', 0.0), ('MSFT', 0.34813), ('NVDA', 0.58744), ('PLTR', 0.0), ('PYPL', 0.0), ('TSLA', 0.06443)])\n",
            "Expected annual return: 45.1%\n",
            "Annual volatility: 12.9%\n",
            "Sharpe Ratio: 3.34\n"
          ]
        },
        {
          "output_type": "execute_result",
          "data": {
            "text/plain": [
              "(0.450880679635861, 0.12894441416886743, 3.3416001958144035)"
            ]
          },
          "metadata": {},
          "execution_count": 54
        }
      ]
    },
    {
      "cell_type": "code",
      "source": [
        "# Calculate the efficient frontier\n",
        "ef = EfficientFrontier(mu_ew, Sigma_semi)\n",
        "\n",
        "# Calculate weights for the maximum sharpe ratio optimization\n",
        "raw_weights_maxsharpe = ef.max_sharpe()\n",
        "cleaned_weights_maxsharpe = ef.clean_weights()\n",
        "\n",
        "# Show portfolio performance \n",
        "print(cleaned_weights_maxsharpe)\n",
        "ef.portfolio_performance(verbose=True)"
      ],
      "metadata": {
        "colab": {
          "base_uri": "https://localhost:8080/"
        },
        "id": "Xq2r_9yzo6W9",
        "outputId": "9aca9ec2-abc1-45e3-fec2-f999654c9ae4"
      },
      "execution_count": null,
      "outputs": [
        {
          "output_type": "stream",
          "name": "stdout",
          "text": [
            "OrderedDict([('AMD', 0.0), ('AMZN', 0.0), ('BABA', 0.0), ('DKNG', 0.0), ('FB', 0.0), ('MSFT', 0.0), ('NVDA', 1.0), ('PLTR', 0.0), ('PYPL', 0.0), ('TSLA', 0.0)])\n",
            "Expected annual return: 166.5%\n",
            "Annual volatility: 26.4%\n",
            "Sharpe Ratio: 6.23\n"
          ]
        },
        {
          "output_type": "execute_result",
          "data": {
            "text/plain": [
              "(1.6652800652751758, 0.2639356848082463, 6.233640087245115)"
            ]
          },
          "metadata": {},
          "execution_count": 65
        }
      ]
    },
    {
      "cell_type": "code",
      "source": [
        "plotting.plot_covariance(Sigma_semi)"
      ],
      "metadata": {
        "colab": {
          "base_uri": "https://localhost:8080/",
          "height": 314
        },
        "id": "hugkVbUpLvh2",
        "outputId": "239ba797-9fba-497e-a7e2-d5eafccc5926"
      },
      "execution_count": 71,
      "outputs": [
        {
          "output_type": "execute_result",
          "data": {
            "text/plain": [
              "<matplotlib.axes._subplots.AxesSubplot at 0x7f641e409b90>"
            ]
          },
          "metadata": {},
          "execution_count": 71
        },
        {
          "output_type": "display_data",
          "data": {
            "image/png": "[encoded data removed]",
            "text/plain": [
              "<Figure size 432x288 with 2 Axes>"
            ]
          },
          "metadata": {
            "needs_background": "light"
          }
        }
      ]
    },
    {
      "cell_type": "code",
      "source": [
        "# Obtain the efficient frontier\n",
        "ef = EfficientFrontier(mu_ew, Sigma_semi)\n",
        "# ef.add_objective(objective_functions.L2_reg, gamma=2)\n",
        "fig, ax = plt.subplots()\n",
        "plotting.plot_efficient_frontier(ef, ax=ax, show_assets=False)\n",
        "\n",
        "# Obtain the efficient frontier\n",
        "ef = EfficientFrontier(mu_ew, Sigma_semi)\n",
        "# ef.add_objective(objective_functions.L2_reg, gamma=2)\n",
        "# Find the tangency portfolio\n",
        "ef.max_sharpe()\n",
        "ret_tangent, std_tangent, _ = ef.portfolio_performance()\n",
        "ax.scatter(std_tangent, ret_tangent, marker=\"*\", s=100, c=\"r\", label=\"Max Sharpe\")\n",
        "\n",
        "# Obtain the efficient frontier\n",
        "ef = EfficientFrontier(mu_ew, Sigma_semi)\n",
        "# ef.add_objective(objective_functions.L2_reg, gamma=2)\n",
        "# Find the tangency portfolio\n",
        "ef.min_volatility()\n",
        "ret_min, std_min, _ = ef.portfolio_performance()\n",
        "ax.scatter(std_min, ret_min, marker=\"D\", s=100, c=\"g\", label=\"Min Volatility\")"
      ],
      "metadata": {
        "colab": {
          "base_uri": "https://localhost:8080/",
          "height": 314
        },
        "id": "dPIkZwKUmMOR",
        "outputId": "8d4cfc51-a02b-4dce-f0e2-5de75ae6d0e4"
      },
      "execution_count": null,
      "outputs": [
        {
          "output_type": "execute_result",
          "data": {
            "text/plain": [
              "<matplotlib.collections.PathCollection at 0x7f641e332850>"
            ]
          },
          "metadata": {},
          "execution_count": 57
        },
        {
          "output_type": "display_data",
          "data": {
            "image/png": "[encoded data removed]",
            "text/plain": [
              "<Figure size 432x288 with 1 Axes>"
            ]
          },
          "metadata": {
            "needs_background": "light"
          }
        }
      ]
    },
    {
      "cell_type": "markdown",
      "source": [
        "When we use measures such as standard deviation and variance for volatility, it measures all deviations from the mean, so both upside and downside deviations. However, investors typically more focus on the downside in their portfolios. They do however worry about negative returns. That suggests that a good risk measure should perhaps focus on the potential losses, rather than overall fluctuations measured by volatility.\n",
        "\n",
        "That's where the Sortino ratio comes in. The Sortino ratio is a variation of the Sharpe ratio. It differentiates harmful volatility from overall volatility by using the asset's standard deviation of negative portfolio returns only. So instead of the normal standard deviation, in the Sortino ratio you calculate the standard deviation of the negative returns only, called downside risk.\n",
        "$$\\text{Sortino Ratio}=\\frac{R_p-R_f}{\\sigma_d}$$\n",
        "where the denominator is the standard deviation of the downside. For that ratio you calculated the variance of the negative returns only, as a way to measure downside risk. Here we use the semicovariance matrix for the portfolio optimization problem.\n",
        "\n",
        "So, the max sharpe ratio will lead to max sortino ratio instead. This time the max sortino ratio method just choose the NVDA as our only choice. It seems really aggressive trading strategy.\n"
      ],
      "metadata": {
        "id": "rnM_fmk0MZkx"
      }
    },
    {
      "cell_type": "markdown",
      "source": [
        "## 3. Backtesting\n",
        "\n",
        "Backtesting is a way to assess the effectiveness of a strategy by testing it on historical data. The test result is evaluated to determine how it would have performed if used in the past, and whether it will be viable for further trading.\n",
        "\n",
        "There are four steps to define and backtest a strategy. First we obtain historical price data of the assets we are going to trade. Second we define the strategy. Next we backtest the strategy with the historical data, and finally we evaluate the result.\n",
        "\n",
        "First, we download the \"Adjusted Close\" prices from Yahoo Finance by all choosen stocks from '2021-6-14' to '2021-12-14'. The \"Adjusted Close\" price is adjusted for events like corporate actions such as stock splits, dividends, etc. Moreover, it is also the price we use before.\n",
        "\n",
        "The \"Strategy\" contains trading logics by combining various \"algos\". It allows us to easily create strategies by mixing and matching different algos, each of which acts like a small task force that performs a specific operation. Within \"Strategy\" we first assign a name. Then we define a list of algos in the square brackets. The first \"algo\" specifies when to execute trades. Here we specify a simple rule to execute trades every week using \"RunWeekly\". The second \"algo\" specifies what data the strategy will apply to, for simplicity we apply to all the data using \"SelectAll\". The third \"algo\" specifies, in the case of multiple assets, what weights apply to each asset. Here we try different kinds for weighted in order to test which portifolios perform the best. The last \"algo\" specifies that it will re-balance the asset weights according to what we have specified in the previous step. We now have a strategy that will execute trades weekly on a portfolio that holds several stocks. "
      ],
      "metadata": {
        "id": "5BM0omVSgzRw"
      }
    },
    {
      "cell_type": "code",
      "source": [
        "pip install bt\n",
        "pip install yfinance --upgrade --no-cache-dir\n",
        "\n",
        "from pandas_datareader import data as pdr\n",
        "import yfinance as yf\n",
        "\n",
        "yf.pdr_override()"
      ],
      "metadata": {
        "id": "ogFu4vUXetTm"
      },
      "execution_count": null,
      "outputs": []
    },
    {
      "cell_type": "code",
      "source": [
        "import bt\n",
        "\n",
        "# Download historical prices\n",
        "bt_data = bt.get(stocks, start='2021-6-14', end='2021-12-14')\n",
        "\n",
        "# Define the strategy\n",
        "bt_strategy = bt.Strategy('Trade_Weekly', \n",
        "                         [bt.algos.RunWeekly(),\n",
        "                          bt.algos.SelectAll(),\n",
        "                          bt.algos.WeighEqually(),\n",
        "                          bt.algos.Rebalance()])\n",
        "# Create a backtest\n",
        "bt_test = bt.Backtest(bt_strategy, bt_data)\n",
        "# Run the backtest\n",
        "bt_res = bt.run(bt_test)\n",
        "# Plot the test result\n",
        "bt_res.plot(title=\"Backtest result\")\n",
        "plt.show()"
      ],
      "metadata": {
        "colab": {
          "base_uri": "https://localhost:8080/",
          "height": 328
        },
        "id": "Pg-p9Lfa3RGY",
        "outputId": "595f170d-c11d-462e-f8f6-5b28dfc2290c"
      },
      "execution_count": null,
      "outputs": [
        {
          "output_type": "display_data",
          "data": {
            "image/png": "[encoded data removed]",
            "text/plain": [
              "<Figure size 1080x360 with 1 Axes>"
            ]
          },
          "metadata": {
            "needs_background": "light"
          }
        }
      ]
    },
    {
      "cell_type": "code",
      "source": [
        "bt_res.display()"
      ],
      "metadata": {
        "colab": {
          "base_uri": "https://localhost:8080/"
        },
        "id": "L6ko7HIt3YSG",
        "outputId": "d05b0326-a788-4b42-90d8-4e47c7082ff7"
      },
      "execution_count": null,
      "outputs": [
        {
          "output_type": "stream",
          "name": "stdout",
          "text": [
            "Stat                 Trade_Weekly\n",
            "-------------------  --------------\n",
            "Start                2021-06-13\n",
            "End                  2021-12-13\n",
            "Risk-free rate       0.00%\n",
            "\n",
            "Total Return         1.52%\n",
            "Daily Sharpe         0.24\n",
            "Daily Sortino        0.37\n",
            "CAGR                 3.06%\n",
            "Max Drawdown         -15.24%\n",
            "Calmar Ratio         0.20\n",
            "\n",
            "MTD                  -7.46%\n",
            "3m                   -8.05%\n",
            "6m                   1.52%\n",
            "YTD                  1.52%\n",
            "1Y                   -\n",
            "3Y (ann.)            -\n",
            "5Y (ann.)            -\n",
            "10Y (ann.)           -\n",
            "Since Incep. (ann.)  3.06%\n",
            "\n",
            "Daily Sharpe         0.24\n",
            "Daily Sortino        0.37\n",
            "Daily Mean (ann.)    5.72%\n",
            "Daily Vol (ann.)     23.42%\n",
            "Daily Skew           -0.66\n",
            "Daily Kurt           0.58\n",
            "Best Day             3.37%\n",
            "Worst Day            -4.28%\n",
            "\n",
            "Monthly Sharpe       -0.26\n",
            "Monthly Sortino      -0.57\n",
            "Monthly Mean (ann.)  -6.87%\n",
            "Monthly Vol (ann.)   26.49%\n",
            "Monthly Skew         0.67\n",
            "Monthly Kurt         -1.63\n",
            "Best Month           10.07%\n",
            "Worst Month          -7.95%\n",
            "\n",
            "Yearly Sharpe        -\n",
            "Yearly Sortino       -\n",
            "Yearly Mean          -\n",
            "Yearly Vol           -\n",
            "Yearly Skew          -\n",
            "Yearly Kurt          -\n",
            "Best Year            -\n",
            "Worst Year           -\n",
            "\n",
            "Avg. Drawdown        -3.94%\n",
            "Avg. Drawdown Days   13.73\n",
            "Avg. Up Month        8.83%\n",
            "Avg. Down Month      -5.28%\n",
            "Win Year %           -\n",
            "Win 12m %            -\n"
          ]
        }
      ]
    },
    {
      "cell_type": "markdown",
      "source": [
        "Here we use equall weighted method as a benchmark in order to compare the performance with other weighted we gained before. It seems not a good combination. Since the return, sharpe ratio and sortino ratio are all pretty small."
      ],
      "metadata": {
        "id": "B9vkhMhRkhUi"
      }
    },
    {
      "cell_type": "code",
      "source": [
        "import bt\n",
        "\n",
        "# Download historical prices\n",
        "bt_data = bt.get(stocks, start='2021-6-14', end='2021-12-14')\n",
        "\n",
        "# Define the strategy\n",
        "bt_strategy = bt.Strategy('Trade_Weekly', \n",
        "                         [bt.algos.RunWeekly(),\n",
        "                          bt.algos.SelectAll(),\n",
        "                          bt.algos.WeighSpecified(msft=0.66455, nvda=0.33545),\n",
        "                          bt.algos.Rebalance()])\n",
        "# Create a backtest\n",
        "bt_test = bt.Backtest(bt_strategy, bt_data)\n",
        "# Run the backtest\n",
        "bt_res = bt.run(bt_test)\n",
        "# Plot the test result\n",
        "bt_res.plot(title=\"Backtest result\")\n",
        "plt.show()"
      ],
      "metadata": {
        "colab": {
          "base_uri": "https://localhost:8080/",
          "height": 328
        },
        "id": "8-ZTntb2H2wi",
        "outputId": "185cf25e-6945-42cf-e109-702052af7d69"
      },
      "execution_count": null,
      "outputs": [
        {
          "output_type": "display_data",
          "data": {
            "image/png": "[encoded data removed]",
            "text/plain": [
              "<Figure size 1080x360 with 1 Axes>"
            ]
          },
          "metadata": {
            "needs_background": "light"
          }
        }
      ]
    },
    {
      "cell_type": "code",
      "source": [
        "bt_res.display()"
      ],
      "metadata": {
        "colab": {
          "base_uri": "https://localhost:8080/"
        },
        "id": "YUpXKd4khwOj",
        "outputId": "b584ee0c-769d-42fe-f458-4808cc700455"
      },
      "execution_count": null,
      "outputs": [
        {
          "output_type": "stream",
          "name": "stdout",
          "text": [
            "Stat                 Trade_Weekly\n",
            "-------------------  --------------\n",
            "Start                2021-06-13\n",
            "End                  2021-12-13\n",
            "Risk-free rate       0.00%\n",
            "\n",
            "Total Return         40.22%\n",
            "Daily Sharpe         2.96\n",
            "Daily Sortino        5.72\n",
            "CAGR                 96.33%\n",
            "Max Drawdown         -8.84%\n",
            "Calmar Ratio         10.90\n",
            "\n",
            "MTD                  -3.01%\n",
            "3m                   19.31%\n",
            "6m                   40.22%\n",
            "YTD                  40.22%\n",
            "1Y                   -\n",
            "3Y (ann.)            -\n",
            "5Y (ann.)            -\n",
            "10Y (ann.)           -\n",
            "Since Incep. (ann.)  96.33%\n",
            "\n",
            "Daily Sharpe         2.96\n",
            "Daily Sortino        5.72\n",
            "Daily Mean (ann.)    69.34%\n",
            "Daily Vol (ann.)     23.39%\n",
            "Daily Skew           0.13\n",
            "Daily Kurt           0.67\n",
            "Best Day             4.56%\n",
            "Worst Day            -3.89%\n",
            "\n",
            "Monthly Sharpe       1.83\n",
            "Monthly Sortino      6.19\n",
            "Monthly Mean (ann.)  60.59%\n",
            "Monthly Vol (ann.)   33.07%\n",
            "Monthly Skew         0.34\n",
            "Monthly Kurt         -0.36\n",
            "Best Month           19.61%\n",
            "Worst Month          -6.87%\n",
            "\n",
            "Yearly Sharpe        -\n",
            "Yearly Sortino       -\n",
            "Yearly Mean          -\n",
            "Yearly Vol           -\n",
            "Yearly Skew          -\n",
            "Yearly Kurt          -\n",
            "Best Year            -\n",
            "Worst Year           -\n",
            "\n",
            "Avg. Drawdown        -1.92%\n",
            "Avg. Drawdown Days   7.76\n",
            "Avg. Up Month        10.04%\n",
            "Avg. Down Month      -4.94%\n",
            "Win Year %           -\n",
            "Win 12m %            -\n"
          ]
        }
      ]
    },
    {
      "cell_type": "markdown",
      "source": [
        "This backtest is based on the normal calculated μ and σ. We choose the weight of msft=0.66455 and nvda=0.33545. It turns out to offer us really good results. Total return 40.22%, sharpe ratio is 2.96 and sortino ratio is 5.72. The volitality is lower than the benchmark."
      ],
      "metadata": {
        "id": "1vJptpQZp_4m"
      }
    },
    {
      "cell_type": "code",
      "source": [
        "# Download historical prices\n",
        "bt_data = bt.get(stocks, start='2021-6-14', end='2021-12-14')\n",
        "\n",
        "# Define the strategy\n",
        "bt_strategy = bt.Strategy('Trade_Weekly', \n",
        "                         [bt.algos.RunWeekly(),\n",
        "                          bt.algos.SelectAll(),\n",
        "                          bt.algos.WeighSpecified(msft=0.34813, nvda=0.58744, tsla=0.06443),\n",
        "                          bt.algos.Rebalance()])\n",
        "# Create a backtest\n",
        "bt_test = bt.Backtest(bt_strategy, bt_data)\n",
        "# Run the backtest\n",
        "bt_res = bt.run(bt_test)\n",
        "# Plot the test result\n",
        "bt_res.plot(title=\"Backtest result\")\n",
        "plt.show()"
      ],
      "metadata": {
        "colab": {
          "base_uri": "https://localhost:8080/",
          "height": 328
        },
        "id": "jDUZtmhrsWJe",
        "outputId": "52a8dff5-e8bb-4b26-878d-8b8cdf9c6a29"
      },
      "execution_count": null,
      "outputs": [
        {
          "output_type": "display_data",
          "data": {
            "image/png": "[encoded data removed]",
            "text/plain": [
              "<Figure size 1080x360 with 1 Axes>"
            ]
          },
          "metadata": {
            "needs_background": "light"
          }
        }
      ]
    },
    {
      "cell_type": "code",
      "source": [
        "bt_res.display()"
      ],
      "metadata": {
        "colab": {
          "base_uri": "https://localhost:8080/"
        },
        "id": "lziZ-RrgsWD7",
        "outputId": "baf2faff-ffb7-4079-aaab-be180d173879"
      },
      "execution_count": null,
      "outputs": [
        {
          "output_type": "stream",
          "name": "stdout",
          "text": [
            "Stat                 Trade_Weekly\n",
            "-------------------  --------------\n",
            "Start                2021-06-13\n",
            "End                  2021-12-13\n",
            "Risk-free rate       0.00%\n",
            "\n",
            "Total Return         48.69%\n",
            "Daily Sharpe         2.69\n",
            "Daily Sortino        5.41\n",
            "CAGR                 120.72%\n",
            "Max Drawdown         -10.01%\n",
            "Calmar Ratio         12.07\n",
            "\n",
            "MTD                  -8.34%\n",
            "3m                   23.81%\n",
            "6m                   48.69%\n",
            "YTD                  48.69%\n",
            "1Y                   -\n",
            "3Y (ann.)            -\n",
            "5Y (ann.)            -\n",
            "10Y (ann.)           -\n",
            "Since Incep. (ann.)  120.72%\n",
            "\n",
            "Daily Sharpe         2.69\n",
            "Daily Sortino        5.41\n",
            "Daily Mean (ann.)    82.87%\n",
            "Daily Vol (ann.)     30.75%\n",
            "Daily Skew           0.46\n",
            "Daily Kurt           1.40\n",
            "Best Day             7.46%\n",
            "Worst Day            -4.54%\n",
            "\n",
            "Monthly Sharpe       1.64\n",
            "Monthly Sortino      5.41\n",
            "Monthly Mean (ann.)  72.08%\n",
            "Monthly Vol (ann.)   43.85%\n",
            "Monthly Skew         0.13\n",
            "Monthly Kurt         -1.99\n",
            "Best Month           22.72%\n",
            "Worst Month          -8.34%\n",
            "\n",
            "Yearly Sharpe        -\n",
            "Yearly Sortino       -\n",
            "Yearly Mean          -\n",
            "Yearly Vol           -\n",
            "Yearly Skew          -\n",
            "Yearly Kurt          -\n",
            "Best Year            -\n",
            "Worst Year           -\n",
            "\n",
            "Avg. Drawdown        -3.01%\n",
            "Avg. Drawdown Days   8.73\n",
            "Avg. Up Month        12.68%\n",
            "Avg. Down Month      -7.34%\n",
            "Win Year %           -\n",
            "Win 12m %            -\n"
          ]
        }
      ]
    },
    {
      "cell_type": "markdown",
      "source": [
        "The above chart and table are calculated by using the exponential weighted μ and σ. It also turns out to give us good results. This time the total return is higher than the previous one and it is near 50%. However, the sharpe ratio and sortino ratio are slightly lower than the previous one."
      ],
      "metadata": {
        "id": "wsIZVt_FrHpI"
      }
    },
    {
      "cell_type": "code",
      "source": [
        "# Download historical prices\n",
        "bt_data = bt.get(stocks, start='2021-6-14', end='2021-12-14')\n",
        "\n",
        "# Define the strategy\n",
        "bt_strategy = bt.Strategy('Trade_Weekly', \n",
        "                         [bt.algos.RunWeekly(),\n",
        "                          bt.algos.SelectAll(),\n",
        "                          bt.algos.WeighSpecified(nvda=1),\n",
        "                          bt.algos.Rebalance()])\n",
        "# Create a backtest\n",
        "bt_test = bt.Backtest(bt_strategy, bt_data)\n",
        "# Run the backtest\n",
        "bt_res = bt.run(bt_test)\n",
        "# Plot the test result\n",
        "bt_res.plot(title=\"Backtest result\")\n",
        "plt.show()"
      ],
      "metadata": {
        "colab": {
          "base_uri": "https://localhost:8080/",
          "height": 328
        },
        "id": "47Hr62bhsV65",
        "outputId": "00260399-b102-4f6a-acd1-8dd1d08a6f97"
      },
      "execution_count": null,
      "outputs": [
        {
          "output_type": "display_data",
          "data": {
            "image/png": "[encoded data removed]",
            "text/plain": [
              "<Figure size 1080x360 with 1 Axes>"
            ]
          },
          "metadata": {
            "needs_background": "light"
          }
        }
      ]
    },
    {
      "cell_type": "code",
      "source": [
        "bt_res.display()"
      ],
      "metadata": {
        "colab": {
          "base_uri": "https://localhost:8080/"
        },
        "id": "_LJrpV3ks87F",
        "outputId": "c43f0a93-b213-4eb1-dd78-b1e821f03278"
      },
      "execution_count": null,
      "outputs": [
        {
          "output_type": "stream",
          "name": "stdout",
          "text": [
            "Stat                 Trade_Weekly\n",
            "-------------------  --------------\n",
            "Start                2021-06-13\n",
            "End                  2021-12-13\n",
            "Risk-free rate       0.00%\n",
            "\n",
            "Total Return         56.33%\n",
            "Daily Sharpe         2.20\n",
            "Daily Sortino        4.61\n",
            "CAGR                 143.94%\n",
            "Max Drawdown         -15.61%\n",
            "Calmar Ratio         9.22\n",
            "\n",
            "MTD                  -13.81%\n",
            "3m                   27.14%\n",
            "6m                   56.33%\n",
            "YTD                  56.33%\n",
            "1Y                   -\n",
            "3Y (ann.)            -\n",
            "5Y (ann.)            -\n",
            "10Y (ann.)           -\n",
            "Since Incep. (ann.)  143.94%\n",
            "\n",
            "Daily Sharpe         2.20\n",
            "Daily Sortino        4.61\n",
            "Daily Mean (ann.)    97.71%\n",
            "Daily Vol (ann.)     44.35%\n",
            "Daily Skew           0.79\n",
            "Daily Kurt           2.26\n",
            "Best Day             12.04%\n",
            "Worst Day            -6.75%\n",
            "\n",
            "Monthly Sharpe       1.41\n",
            "Monthly Sortino      4.34\n",
            "Monthly Mean (ann.)  84.52%\n",
            "Monthly Vol (ann.)   59.92%\n",
            "Monthly Skew         0.05\n",
            "Monthly Kurt         -2.32\n",
            "Best Month           27.80%\n",
            "Worst Month          -13.81%\n",
            "\n",
            "Yearly Sharpe        -\n",
            "Yearly Sortino       -\n",
            "Yearly Mean          -\n",
            "Yearly Vol           -\n",
            "Yearly Skew          -\n",
            "Yearly Kurt          -\n",
            "Best Year            -\n",
            "Worst Year           -\n",
            "\n",
            "Avg. Drawdown        -4.18%\n",
            "Avg. Drawdown Days   10.00\n",
            "Avg. Up Month        22.01%\n",
            "Avg. Down Month      -7.93%\n",
            "Win Year %           -\n",
            "Win 12m %            -\n"
          ]
        }
      ]
    },
    {
      "cell_type": "markdown",
      "source": [
        "In this case, we use exponential weighted μ and semi-covariance to conduct the backtest. Although the total return is the highest amoung all other combination. The volitality is also highest amoung the others and it is even worse than the benchmark. Since it just pick nvda as our only target asset."
      ],
      "metadata": {
        "id": "XrGOUd4-rNQx"
      }
    },
    {
      "cell_type": "markdown",
      "source": [
        "##Conclusion\n",
        "According to modern portfolio theory, pioneered by Harry Markowitz in 1952, there is an efficient frontier of portfolios, each with the highest expected return for a given level of risk. We select the tangency portfolio, which is the portfolio with the highest Sharpe ratio. The tangency portfolio is known as the max sharpe ratio, or MSR portfolio.\n",
        "\n",
        "We pick the stock by using sentiment analysis for the largest finance communities in Reddit. Then, we set the equal weighted stocks as our benchmark and the performance is relatively poor. However, MSR portfolio turn out to have obviously better results by different μ and σ. MSR portfolio by using exponental weighted μ and σ should become a ideal portfolio. Since it has higher total return and lower volitality compared with other two portfolios.\n",
        "\n",
        "Since our report is based on the short-term information, so it is crucial to rerun the code every week in order to detect the new hottest stock in the market and make the new portfolios.\n",
        "\n",
        "\n",
        "\n"
      ],
      "metadata": {
        "id": "2Cgx5TAhsMWg"
      }
    }
  ]
}